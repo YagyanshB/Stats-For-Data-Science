{
  "nbformat": 4,
  "nbformat_minor": 0,
  "metadata": {
    "colab": {
      "provenance": [],
      "authorship_tag": "ABX9TyOBCyvjXIbzDjTsD1fvanXj",
      "include_colab_link": true
    },
    "kernelspec": {
      "name": "python3",
      "display_name": "Python 3"
    },
    "language_info": {
      "name": "python"
    }
  },
  "cells": [
    {
      "cell_type": "markdown",
      "metadata": {
        "id": "view-in-github",
        "colab_type": "text"
      },
      "source": [
        "<a href=\"https://colab.research.google.com/github/YagyanshB/Stats-For-Data-Science/blob/main/Covariance.ipynb\" target=\"_parent\"><img src=\"https://colab.research.google.com/assets/colab-badge.svg\" alt=\"Open In Colab\"/></a>"
      ]
    },
    {
      "cell_type": "code",
      "execution_count": 1,
      "metadata": {
        "id": "QAJ4QGlbhovP"
      },
      "outputs": [],
      "source": [
        "# Importing the required libraries\n",
        "\n",
        "import numpy as np\n",
        "import pandas as pd\n",
        "import random\n",
        "import math"
      ]
    },
    {
      "cell_type": "code",
      "source": [
        "# Creating two arrays\n",
        "\n",
        "x = np.array([1,3,5,6])\n",
        "y = np.array([-2,-4,-5,-6])\n",
        "z = np.array([1,3,5,6])"
      ],
      "metadata": {
        "id": "e-FhQJ6aiiCl"
      },
      "execution_count": 7,
      "outputs": []
    },
    {
      "cell_type": "code",
      "source": [
        "# Calculating the covariance matrix of x and y\n",
        "\n",
        "cov_xy = np.cov(x,y)"
      ],
      "metadata": {
        "id": "cVnsSnawivEI"
      },
      "execution_count": 8,
      "outputs": []
    },
    {
      "cell_type": "code",
      "source": [
        "cov_xy"
      ],
      "metadata": {
        "colab": {
          "base_uri": "https://localhost:8080/"
        },
        "id": "mjfoJsvLi279",
        "outputId": "848a81a1-51f7-49d7-fc32-84a203687f49"
      },
      "execution_count": 9,
      "outputs": [
        {
          "output_type": "execute_result",
          "data": {
            "text/plain": [
              "array([[ 4.91666667, -3.75      ],\n",
              "       [-3.75      ,  2.91666667]])"
            ]
          },
          "metadata": {},
          "execution_count": 9
        }
      ]
    },
    {
      "cell_type": "code",
      "source": [
        "cov_xy[0,1]"
      ],
      "metadata": {
        "colab": {
          "base_uri": "https://localhost:8080/"
        },
        "id": "VpyJIw41i31s",
        "outputId": "03633a44-b6dc-4462-c83d-22ab5bf4049b"
      },
      "execution_count": 10,
      "outputs": [
        {
          "output_type": "execute_result",
          "data": {
            "text/plain": [
              "-3.75"
            ]
          },
          "metadata": {},
          "execution_count": 10
        }
      ]
    }
  ]
}