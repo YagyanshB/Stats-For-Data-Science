{
  "nbformat": 4,
  "nbformat_minor": 0,
  "metadata": {
    "colab": {
      "provenance": [],
      "authorship_tag": "ABX9TyOkAA2pwVptrcscXy1+DEIw",
      "include_colab_link": true
    },
    "kernelspec": {
      "name": "python3",
      "display_name": "Python 3"
    },
    "language_info": {
      "name": "python"
    }
  },
  "cells": [
    {
      "cell_type": "markdown",
      "metadata": {
        "id": "view-in-github",
        "colab_type": "text"
      },
      "source": [
        "<a href=\"https://colab.research.google.com/github/YagyanshB/Stats-For-Data-Science/blob/main/Bayes_Theorem.ipynb\" target=\"_parent\"><img src=\"https://colab.research.google.com/assets/colab-badge.svg\" alt=\"Open In Colab\"/></a>"
      ]
    },
    {
      "cell_type": "code",
      "execution_count": 1,
      "metadata": {
        "id": "8sg4ZAuIuSzM"
      },
      "outputs": [],
      "source": [
        "# Creating a function\n",
        "\n",
        "def bayes_theorem(prior_prob, likelihood, evidence_prob):\n",
        "  posterior_prob = (likelihood * prior_prob)/ evidence_prob\n",
        "  return posterior_prob"
      ]
    },
    {
      "cell_type": "code",
      "source": [
        "# Given probabilities\n",
        "\n",
        "p_disease = 0.01\n",
        "p_positive_given_disease = 0.95\n",
        "p_positive_given_no_disease = 0.05"
      ],
      "metadata": {
        "id": "UQgKR1VIvve0"
      },
      "execution_count": 2,
      "outputs": []
    },
    {
      "cell_type": "code",
      "source": [
        "# Calculating probability of testing positive\n",
        "\n",
        "p_positive = p_positive_given_disease * p_disease + p_positive_given_no_disease * (1 - p_disease)"
      ],
      "metadata": {
        "id": "D1NSc8BAv6t5"
      },
      "execution_count": 3,
      "outputs": []
    },
    {
      "cell_type": "code",
      "source": [
        "# Calculating probablity of testing positive of disease after having a positive test result\n",
        "\n",
        "p_disease_given_positive = bayes_theorem(p_disease, p_positive_given_disease, p_positive)"
      ],
      "metadata": {
        "id": "ATPZ0fRSwPhB"
      },
      "execution_count": 4,
      "outputs": []
    },
    {
      "cell_type": "code",
      "source": [
        "print(f\"The probability of having the disease given a positive test result is: {p_disease_given_positive:.3f}\")"
      ],
      "metadata": {
        "colab": {
          "base_uri": "https://localhost:8080/"
        },
        "id": "qITo32ZZwjWJ",
        "outputId": "3ab26f71-322d-478d-939b-cb48d06b6dbe"
      },
      "execution_count": 5,
      "outputs": [
        {
          "output_type": "stream",
          "name": "stdout",
          "text": [
            "The probability of having the disease given a positive test result is: 0.161\n"
          ]
        }
      ]
    }
  ]
}