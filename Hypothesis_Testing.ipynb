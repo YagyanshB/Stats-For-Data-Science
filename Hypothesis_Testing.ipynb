{
  "nbformat": 4,
  "nbformat_minor": 0,
  "metadata": {
    "colab": {
      "provenance": [],
      "authorship_tag": "ABX9TyNb8QuaLPhoNBwIamN39Bfw",
      "include_colab_link": true
    },
    "kernelspec": {
      "name": "python3",
      "display_name": "Python 3"
    },
    "language_info": {
      "name": "python"
    }
  },
  "cells": [
    {
      "cell_type": "markdown",
      "metadata": {
        "id": "view-in-github",
        "colab_type": "text"
      },
      "source": [
        "<a href=\"https://colab.research.google.com/github/YagyanshB/Stats-For-Data-Science/blob/main/Hypothesis_Testing.ipynb\" target=\"_parent\"><img src=\"https://colab.research.google.com/assets/colab-badge.svg\" alt=\"Open In Colab\"/></a>"
      ]
    },
    {
      "cell_type": "code",
      "execution_count": 1,
      "metadata": {
        "id": "2ywmn-AHrV8E"
      },
      "outputs": [],
      "source": [
        "# Importing the required libraries\n",
        "\n",
        "import numpy as np\n",
        "import pandas as pd\n",
        "from scipy import stats"
      ]
    },
    {
      "cell_type": "code",
      "source": [
        "# Sample data\n",
        "\n",
        "sample_weights = [495, 499, 498, 500, 510, 505, 509, 508, 496]"
      ],
      "metadata": {
        "id": "rBNvz_dzrlSG"
      },
      "execution_count": 2,
      "outputs": []
    },
    {
      "cell_type": "code",
      "source": [
        "# Hypothesized Population Mean\n",
        "\n",
        "hypothesized_mean = 500"
      ],
      "metadata": {
        "id": "Li4RmIiUrxh7"
      },
      "execution_count": 3,
      "outputs": []
    },
    {
      "cell_type": "code",
      "source": [
        "# Perform one-way sample t test\n",
        "\n",
        "t_statistic, p_value = stats.ttest_1samp(sample_weights, hypothesized_mean)"
      ],
      "metadata": {
        "id": "i_gxSOYPr3Ib"
      },
      "execution_count": 5,
      "outputs": []
    },
    {
      "cell_type": "code",
      "source": [
        "# Print the results\n",
        "print(\"T-statistic:\", t_statistic)\n",
        "print(\"P-value:\", p_value)\n",
        "\n",
        "# Set the significance level (alpha)\n",
        "alpha = 0.05\n",
        "\n",
        "# Compare the p-value with the significance level\n",
        "if p_value < alpha:\n",
        "    print(\"Reject the null hypothesis\")\n",
        "else:\n",
        "    print(\"Fail to reject the null hypothesis\")"
      ],
      "metadata": {
        "colab": {
          "base_uri": "https://localhost:8080/"
        },
        "id": "OiD39NjRsCz8",
        "outputId": "0817156a-d22b-40af-dc0d-5277ff821128"
      },
      "execution_count": 7,
      "outputs": [
        {
          "output_type": "stream",
          "name": "stdout",
          "text": [
            "T-statistic: 1.1442591353812495\n",
            "P-value: 0.28559595636952134\n",
            "Fail to reject the null hypothesis\n"
          ]
        }
      ]
    },
    {
      "cell_type": "code",
      "source": [],
      "metadata": {
        "id": "uNJRc8CEsYis"
      },
      "execution_count": null,
      "outputs": []
    }
  ]
}