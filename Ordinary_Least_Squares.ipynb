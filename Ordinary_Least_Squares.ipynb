{
  "nbformat": 4,
  "nbformat_minor": 0,
  "metadata": {
    "colab": {
      "provenance": [],
      "authorship_tag": "ABX9TyP3cLeViTGxoHjG8YvWCPn4",
      "include_colab_link": true
    },
    "kernelspec": {
      "name": "python3",
      "display_name": "Python 3"
    },
    "language_info": {
      "name": "python"
    }
  },
  "cells": [
    {
      "cell_type": "markdown",
      "metadata": {
        "id": "view-in-github",
        "colab_type": "text"
      },
      "source": [
        "<a href=\"https://colab.research.google.com/github/YagyanshB/Stats-For-Data-Science/blob/main/Ordinary_Least_Squares.ipynb\" target=\"_parent\"><img src=\"https://colab.research.google.com/assets/colab-badge.svg\" alt=\"Open In Colab\"/></a>"
      ]
    },
    {
      "cell_type": "code",
      "execution_count": 1,
      "metadata": {
        "id": "I53uLhmf6bYB"
      },
      "outputs": [],
      "source": [
        "# Importing the required libraries\n",
        "\n",
        "import numpy as np\n",
        "import pandas as pd\n",
        "import statsmodels.api as sm"
      ]
    },
    {
      "cell_type": "code",
      "source": [
        "# Sample Data\n",
        "\n",
        "house_sizes = np.array([1500, 1800, 2400, 3000, 3500])\n",
        "prices = np.array([400, 450, 600, 750, 820])"
      ],
      "metadata": {
        "id": "20yAySOZ6qET"
      },
      "execution_count": 2,
      "outputs": []
    },
    {
      "cell_type": "code",
      "source": [
        "# Adding a constant (intercept) to the model\n",
        "\n",
        "house_sizes = sm.add_constant(house_sizes)"
      ],
      "metadata": {
        "id": "fy1w8fpR6u8r"
      },
      "execution_count": 3,
      "outputs": []
    },
    {
      "cell_type": "code",
      "source": [
        "# Fit the OLS model\n",
        "model = sm.OLS(prices, house_sizes)\n",
        "results = model.fit()\n",
        "\n",
        "# Print the summary of the regression\n",
        "print(results.summary())"
      ],
      "metadata": {
        "colab": {
          "base_uri": "https://localhost:8080/"
        },
        "id": "hg9rN6H_6zOt",
        "outputId": "7364df3f-bf92-4e34-e004-f4867d31a865"
      },
      "execution_count": 4,
      "outputs": [
        {
          "output_type": "stream",
          "name": "stdout",
          "text": [
            "                            OLS Regression Results                            \n",
            "==============================================================================\n",
            "Dep. Variable:                      y   R-squared:                       0.992\n",
            "Model:                            OLS   Adj. R-squared:                  0.990\n",
            "Method:                 Least Squares   F-statistic:                     388.8\n",
            "Date:                Fri, 10 May 2024   Prob (F-statistic):           0.000285\n",
            "Time:                        14:32:22   Log-Likelihood:                -20.392\n",
            "No. Observations:                   5   AIC:                             44.78\n",
            "Df Residuals:                       3   BIC:                             44.00\n",
            "Df Model:                           1                                         \n",
            "Covariance Type:            nonrobust                                         \n",
            "==============================================================================\n",
            "                 coef    std err          t      P>|t|      [0.025      0.975]\n",
            "------------------------------------------------------------------------------\n",
            "const         67.0571     28.453      2.357      0.100     -23.492     157.606\n",
            "x1             0.2201      0.011     19.718      0.000       0.185       0.256\n",
            "==============================================================================\n",
            "Omnibus:                          nan   Durbin-Watson:                   2.453\n",
            "Prob(Omnibus):                    nan   Jarque-Bera (JB):                0.349\n",
            "Skew:                           0.309   Prob(JB):                        0.840\n",
            "Kurtosis:                       1.862   Cond. No.                     8.79e+03\n",
            "==============================================================================\n",
            "\n",
            "Notes:\n",
            "[1] Standard Errors assume that the covariance matrix of the errors is correctly specified.\n",
            "[2] The condition number is large, 8.79e+03. This might indicate that there are\n",
            "strong multicollinearity or other numerical problems.\n"
          ]
        },
        {
          "output_type": "stream",
          "name": "stderr",
          "text": [
            "/usr/local/lib/python3.10/dist-packages/statsmodels/stats/stattools.py:74: ValueWarning: omni_normtest is not valid with less than 8 observations; 5 samples were given.\n",
            "  warn(\"omni_normtest is not valid with less than 8 observations; %i \"\n"
          ]
        }
      ]
    }
  ]
}