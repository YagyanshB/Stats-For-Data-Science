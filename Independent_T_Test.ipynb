{
  "nbformat": 4,
  "nbformat_minor": 0,
  "metadata": {
    "colab": {
      "provenance": [],
      "authorship_tag": "ABX9TyO/8XzBq9TS4sgY+yVq2mrE",
      "include_colab_link": true
    },
    "kernelspec": {
      "name": "python3",
      "display_name": "Python 3"
    },
    "language_info": {
      "name": "python"
    }
  },
  "cells": [
    {
      "cell_type": "markdown",
      "metadata": {
        "id": "view-in-github",
        "colab_type": "text"
      },
      "source": [
        "<a href=\"https://colab.research.google.com/github/YagyanshB/Stats-For-Data-Science/blob/main/Independent_T_Test.ipynb\" target=\"_parent\"><img src=\"https://colab.research.google.com/assets/colab-badge.svg\" alt=\"Open In Colab\"/></a>"
      ]
    },
    {
      "cell_type": "code",
      "execution_count": 1,
      "metadata": {
        "id": "vVI4chj2-oyP"
      },
      "outputs": [],
      "source": [
        "# Importing the required libraries\n",
        "\n",
        "import numpy as np\n",
        "import pandas as pd\n",
        "from scipy import stats"
      ]
    },
    {
      "cell_type": "code",
      "source": [
        "# Creating two random samples\n",
        "\n",
        "sample_1 = np.random.normal(loc = 10, scale = 2, size = 50)\n",
        "sample_2 = np.random.normal(loc = 14, scale = 1, size = 50)"
      ],
      "metadata": {
        "id": "bYeDdhdO-znn"
      },
      "execution_count": 2,
      "outputs": []
    },
    {
      "cell_type": "code",
      "source": [
        "# Performing Independent Sample T Test\n",
        "\n",
        "t_statistic, p_value = stats.ttest_ind(sample_1, sample_2)"
      ],
      "metadata": {
        "id": "fzFso4Ln_E9h"
      },
      "execution_count": 5,
      "outputs": []
    },
    {
      "cell_type": "code",
      "source": [
        "# Printing the results\n",
        "\n",
        "print(\"Independent Sample T-Test\")\n",
        "print(f\"T-Statistic: {t_statistic:.4f}\")\n",
        "print(f\"P-Value: {p_value:.4f}\")"
      ],
      "metadata": {
        "colab": {
          "base_uri": "https://localhost:8080/"
        },
        "id": "Ph7v-rvX_SyA",
        "outputId": "565d0ba9-7b33-433c-aee0-54d2a249aa84"
      },
      "execution_count": 6,
      "outputs": [
        {
          "output_type": "stream",
          "name": "stdout",
          "text": [
            "Independent Sample T-Test\n",
            "T-Statistic: -15.3301\n",
            "P-Value: 0.0000\n"
          ]
        }
      ]
    },
    {
      "cell_type": "code",
      "source": [
        "# Checking if the difference is significant at a certain alpha value\n",
        "\n",
        "# Alpha effectively is a threshold\n",
        "\n",
        "alpha = 0.05\n",
        "\n",
        "if p_value < alpha:\n",
        "  print(f\"The difference betwen the means is statistically significant for an alpha of {alpha}\")\n",
        "else:\n",
        "  print(f\"The difference between the mean is not statistically significant for an alpha of {alpha}\")\n",
        "\n"
      ],
      "metadata": {
        "colab": {
          "base_uri": "https://localhost:8080/"
        },
        "id": "u-wG6kPX_wRK",
        "outputId": "4b8b7ee2-18d3-49b2-c1f7-247e71f57f02"
      },
      "execution_count": 8,
      "outputs": [
        {
          "output_type": "stream",
          "name": "stdout",
          "text": [
            "The difference betwen the means is statistically significant for an alpha of 0.05\n"
          ]
        }
      ]
    }
  ]
}