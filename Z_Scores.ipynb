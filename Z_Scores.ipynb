{
  "nbformat": 4,
  "nbformat_minor": 0,
  "metadata": {
    "colab": {
      "provenance": [],
      "authorship_tag": "ABX9TyOQaMix7y8q5rrDhUAGFNJv",
      "include_colab_link": true
    },
    "kernelspec": {
      "name": "python3",
      "display_name": "Python 3"
    },
    "language_info": {
      "name": "python"
    }
  },
  "cells": [
    {
      "cell_type": "markdown",
      "metadata": {
        "id": "view-in-github",
        "colab_type": "text"
      },
      "source": [
        "<a href=\"https://colab.research.google.com/github/YagyanshB/Stats-For-Data-Science/blob/main/Z_Scores.ipynb\" target=\"_parent\"><img src=\"https://colab.research.google.com/assets/colab-badge.svg\" alt=\"Open In Colab\"/></a>"
      ]
    },
    {
      "cell_type": "code",
      "execution_count": 2,
      "metadata": {
        "id": "BJ8ZViHT3-ZA"
      },
      "outputs": [],
      "source": [
        "# Importing the required libraries\n",
        "\n",
        "import numpy as np\n",
        "import pandas as pd\n",
        "import seaborn as sns\n",
        "import matplotlib.pyplot as plt\n",
        "from scipy import stats"
      ]
    },
    {
      "cell_type": "code",
      "source": [
        "# Curating a sample dataset\n",
        "\n",
        "data = [85, 92, 78, 90, 78, 75, 67, 45, 98, 99, 45]"
      ],
      "metadata": {
        "id": "GLtVljQ27AzX"
      },
      "execution_count": 3,
      "outputs": []
    },
    {
      "cell_type": "code",
      "source": [
        "# Calculating the mean and standard deviation\n",
        "\n",
        "mean = np.mean(data)\n",
        "std  = np.std(data)"
      ],
      "metadata": {
        "id": "c8p8jVVl7MM1"
      },
      "execution_count": 4,
      "outputs": []
    },
    {
      "cell_type": "code",
      "source": [
        "# Calculating the Z Scores\n",
        "\n",
        "z_score = [(x - mean)/ std for x in data]"
      ],
      "metadata": {
        "id": "nVudCfss7VkX"
      },
      "execution_count": 5,
      "outputs": []
    },
    {
      "cell_type": "code",
      "source": [
        "z_score"
      ],
      "metadata": {
        "colab": {
          "base_uri": "https://localhost:8080/"
        },
        "id": "8C_1lm4c7gdF",
        "outputId": "bdddd7c0-6ea0-47b0-cf4c-ceba65e4e0d6"
      },
      "execution_count": 6,
      "outputs": [
        {
          "output_type": "execute_result",
          "data": {
            "text/plain": [
              "[0.4209241023550666,\n",
              " 0.8114199563471163,\n",
              " 0.03042824836301693,\n",
              " 0.6998497123493878,\n",
              " 0.03042824836301693,\n",
              " -0.1369271176335758,\n",
              " -0.5832080936244897,\n",
              " -1.8104807775995029,\n",
              " 1.1461306883403017,\n",
              " 1.2019158103391658,\n",
              " -1.8104807775995029]"
            ]
          },
          "metadata": {},
          "execution_count": 6
        }
      ]
    },
    {
      "cell_type": "code",
      "source": [
        "print(data)\n",
        "print(mean)\n",
        "print(std)\n",
        "print(z_score)"
      ],
      "metadata": {
        "colab": {
          "base_uri": "https://localhost:8080/"
        },
        "id": "rpYKx5Ts7hN4",
        "outputId": "8956de13-73e2-4405-faeb-d9f66ff27807"
      },
      "execution_count": 7,
      "outputs": [
        {
          "output_type": "stream",
          "name": "stdout",
          "text": [
            "[85, 92, 78, 90, 78, 75, 67, 45, 98, 99, 45]\n",
            "77.45454545454545\n",
            "17.925926558345783\n",
            "[0.4209241023550666, 0.8114199563471163, 0.03042824836301693, 0.6998497123493878, 0.03042824836301693, -0.1369271176335758, -0.5832080936244897, -1.8104807775995029, 1.1461306883403017, 1.2019158103391658, -1.8104807775995029]\n"
          ]
        }
      ]
    }
  ]
}