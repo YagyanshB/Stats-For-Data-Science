{
  "nbformat": 4,
  "nbformat_minor": 0,
  "metadata": {
    "colab": {
      "provenance": [],
      "authorship_tag": "ABX9TyNofTbY3Y9r6RPEqV5TXffE",
      "include_colab_link": true
    },
    "kernelspec": {
      "name": "python3",
      "display_name": "Python 3"
    },
    "language_info": {
      "name": "python"
    }
  },
  "cells": [
    {
      "cell_type": "markdown",
      "metadata": {
        "id": "view-in-github",
        "colab_type": "text"
      },
      "source": [
        "<a href=\"https://colab.research.google.com/github/YagyanshB/Stats-For-Data-Science/blob/main/Random_Variables.ipynb\" target=\"_parent\"><img src=\"https://colab.research.google.com/assets/colab-badge.svg\" alt=\"Open In Colab\"/></a>"
      ]
    },
    {
      "cell_type": "code",
      "execution_count": 1,
      "metadata": {
        "id": "b9iaBFXJSCo3"
      },
      "outputs": [],
      "source": [
        "# Importing the required modules\n",
        "\n",
        "import random"
      ]
    },
    {
      "cell_type": "code",
      "source": [
        "# Generating a random integer between 1 and 100\n",
        "\n",
        "random_int = random.randint(1,100)\n",
        "print(f'The random integer is {random_int}.')"
      ],
      "metadata": {
        "colab": {
          "base_uri": "https://localhost:8080/"
        },
        "id": "fBJzMVZRSxvv",
        "outputId": "fc7836f5-d669-46df-bf7b-58172f0818db"
      },
      "execution_count": 6,
      "outputs": [
        {
          "output_type": "stream",
          "name": "stdout",
          "text": [
            "The random integer is 59.\n"
          ]
        }
      ]
    },
    {
      "cell_type": "code",
      "source": [
        "# Generating a random float between 1 and 100\n",
        "\n",
        "random_float = random.random()\n",
        "print(f'The random float number is {random_float}.')"
      ],
      "metadata": {
        "colab": {
          "base_uri": "https://localhost:8080/"
        },
        "id": "tJpdP3qFS8aP",
        "outputId": "fddaa48a-c4f9-45f6-c6b9-b10c3941ff18"
      },
      "execution_count": 9,
      "outputs": [
        {
          "output_type": "stream",
          "name": "stdout",
          "text": [
            "The random float number is 0.4041878291964346.\n"
          ]
        }
      ]
    },
    {
      "cell_type": "code",
      "source": [
        "# Generating a random element from a list\n",
        "my_list = ['manzanas', 'platano', 'naranja']\n",
        "\n",
        "# Selecting a random element from the list\n",
        "random_choice = random.choice(my_list)\n",
        "\n",
        "print(f'The random choice is {random_choice}.')"
      ],
      "metadata": {
        "colab": {
          "base_uri": "https://localhost:8080/"
        },
        "id": "U4qxwD-wTPN1",
        "outputId": "29d6eb99-c347-42b0-fec0-d88928d36a66"
      },
      "execution_count": 11,
      "outputs": [
        {
          "output_type": "stream",
          "name": "stdout",
          "text": [
            "The random choice is naranja.\n"
          ]
        }
      ]
    },
    {
      "cell_type": "code",
      "source": [
        "# Random sample from a list\n",
        "\n",
        "my_list = ['manzanas', 'platano', 'naranja']\n",
        "random_sample = random.sample(my_list, 2)\n",
        "\n",
        "print(random_sample)"
      ],
      "metadata": {
        "colab": {
          "base_uri": "https://localhost:8080/"
        },
        "id": "QHlIz-3QTt08",
        "outputId": "3aded312-b3b0-4445-d865-d5295c34ebb2"
      },
      "execution_count": 13,
      "outputs": [
        {
          "output_type": "stream",
          "name": "stdout",
          "text": [
            "['naranja', 'platano']\n"
          ]
        }
      ]
    },
    {
      "cell_type": "code",
      "source": [
        "# Shuffling a list randomly\n",
        "\n",
        "my_list = ['manzanas', 'platano', 'naranja']\n",
        "random.shuffle(my_list)\n",
        "print(my_list)"
      ],
      "metadata": {
        "colab": {
          "base_uri": "https://localhost:8080/"
        },
        "id": "_wEQCRkQUGps",
        "outputId": "d56d3984-cc11-4fe0-df85-4b547bd1cc35"
      },
      "execution_count": 15,
      "outputs": [
        {
          "output_type": "stream",
          "name": "stdout",
          "text": [
            "['naranja', 'manzanas', 'platano']\n"
          ]
        }
      ]
    }
  ]
}