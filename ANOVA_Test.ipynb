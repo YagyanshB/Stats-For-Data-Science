{
  "nbformat": 4,
  "nbformat_minor": 0,
  "metadata": {
    "colab": {
      "provenance": [],
      "authorship_tag": "ABX9TyPo4MNsS7IXy+AwXZyIYGs0",
      "include_colab_link": true
    },
    "kernelspec": {
      "name": "python3",
      "display_name": "Python 3"
    },
    "language_info": {
      "name": "python"
    }
  },
  "cells": [
    {
      "cell_type": "markdown",
      "metadata": {
        "id": "view-in-github",
        "colab_type": "text"
      },
      "source": [
        "<a href=\"https://colab.research.google.com/github/YagyanshB/Stats-For-Data-Science/blob/main/ANOVA_Test.ipynb\" target=\"_parent\"><img src=\"https://colab.research.google.com/assets/colab-badge.svg\" alt=\"Open In Colab\"/></a>"
      ]
    },
    {
      "cell_type": "code",
      "execution_count": 1,
      "metadata": {
        "id": "5r1BPkqBMIH6"
      },
      "outputs": [],
      "source": [
        "# Importing the required libraries\n",
        "\n",
        "import numpy as np\n",
        "import pandas as pd\n",
        "from scipy import stats"
      ]
    },
    {
      "cell_type": "code",
      "source": [
        "# Generating random data for three groups\n",
        "\n",
        "group1 = np.random.normal(loc = 10, scale = 2, size = 50)\n",
        "group2 = np.random.normal(loc = 11, scale = 1.5, size = 50)\n",
        "group3 = np.random.normal(loc = 12, scale = 1.8, size = 50)"
      ],
      "metadata": {
        "id": "6AusZd1ZO_vK"
      },
      "execution_count": 2,
      "outputs": []
    },
    {
      "cell_type": "code",
      "source": [
        "# Performing a One Way ANOVA Test\n",
        "\n",
        "f_statistic, p_value = stats.f_oneway(group1, group2, group3)\n",
        "\n",
        "# Print the Results\n",
        "\n",
        "print(\"One Way ANOVA Results\")\n",
        "print(f\"F-Statistic: {f_statistic:.4f}\")\n",
        "print(f\"p-value: {p_value:.4f}\")"
      ],
      "metadata": {
        "colab": {
          "base_uri": "https://localhost:8080/"
        },
        "id": "kbiU4Pi3QFT6",
        "outputId": "4af544db-e7ed-43d3-c2fe-10553845f9ef"
      },
      "execution_count": 4,
      "outputs": [
        {
          "output_type": "stream",
          "name": "stdout",
          "text": [
            "One Way ANOVA Results\n",
            "F-Statistic: 8.4266\n",
            "p-value: 0.0003\n"
          ]
        }
      ]
    },
    {
      "cell_type": "code",
      "source": [
        "# Checking if there is a significant difference\n",
        "\n",
        "alpha = 0.05 # significance level\n",
        "\n",
        "if p_value < alpha:\n",
        "  print(\"There is significant difference between the group means.\")\n",
        "else:\n",
        "  print(\"There is no significant difference between the group means.\")\n"
      ],
      "metadata": {
        "colab": {
          "base_uri": "https://localhost:8080/"
        },
        "id": "vSh_1k_9Qc9_",
        "outputId": "ee2f0001-4827-46d2-9419-504cffe107d7"
      },
      "execution_count": 5,
      "outputs": [
        {
          "output_type": "stream",
          "name": "stdout",
          "text": [
            "There is significant difference between the group means.\n"
          ]
        }
      ]
    },
    {
      "cell_type": "code",
      "source": [],
      "metadata": {
        "id": "VfICPRUoQ_67"
      },
      "execution_count": null,
      "outputs": []
    }
  ]
}