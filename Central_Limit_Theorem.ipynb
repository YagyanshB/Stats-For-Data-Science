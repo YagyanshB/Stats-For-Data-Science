{
  "nbformat": 4,
  "nbformat_minor": 0,
  "metadata": {
    "colab": {
      "provenance": [],
      "authorship_tag": "ABX9TyPqWhgL4deTvZXrqA85EidL",
      "include_colab_link": true
    },
    "kernelspec": {
      "name": "python3",
      "display_name": "Python 3"
    },
    "language_info": {
      "name": "python"
    }
  },
  "cells": [
    {
      "cell_type": "markdown",
      "metadata": {
        "id": "view-in-github",
        "colab_type": "text"
      },
      "source": [
        "<a href=\"https://colab.research.google.com/github/YagyanshB/Stats-For-Data-Science/blob/main/Central_Limit_Theorem.ipynb\" target=\"_parent\"><img src=\"https://colab.research.google.com/assets/colab-badge.svg\" alt=\"Open In Colab\"/></a>"
      ]
    },
    {
      "cell_type": "code",
      "execution_count": 1,
      "metadata": {
        "id": "YZWovS8qYaL6"
      },
      "outputs": [],
      "source": [
        "# Importing the required libraries\n",
        "\n",
        "import numpy as np\n",
        "import pandas as pd\n",
        "import random\n",
        "import math\n",
        "import matplotlib.pyplot as plt"
      ]
    },
    {
      "cell_type": "code",
      "source": [
        "# Setting the population mean and standard deviation\n",
        "\n",
        "population_mean = 500\n",
        "population_std = 50"
      ],
      "metadata": {
        "id": "nIEZxRLSYk3K"
      },
      "execution_count": 2,
      "outputs": []
    },
    {
      "cell_type": "code",
      "source": [
        "# Setting the sample size and number of samples\n",
        "\n",
        "sample_size = 50\n",
        "num_samples = 30"
      ],
      "metadata": {
        "id": "AQFdGyt6YrO5"
      },
      "execution_count": 3,
      "outputs": []
    },
    {
      "cell_type": "code",
      "source": [
        "# Generating random samples from the population\n",
        "\n",
        "samples = np.random.normal(population_mean, population_std, size = (num_samples, sample_size))\n",
        "\n",
        "# Calculate the sample means\n",
        "\n",
        "sample_means = np.mean(samples, axis = 1)"
      ],
      "metadata": {
        "id": "jfg_vGiXYxfJ"
      },
      "execution_count": 4,
      "outputs": []
    },
    {
      "cell_type": "code",
      "source": [
        "# Plot the distribution of sample means\n",
        "\n",
        "plt.hist(sample_means, bins = 10, edgecolor = 'black')\n",
        "plt.xlabel('Sample Mean')\n",
        "plt.ylabel('Frequency')\n",
        "plt.title('Distribution of Sample Means')\n",
        "plt.show()"
      ],
      "metadata": {
        "colab": {
          "base_uri": "https://localhost:8080/",
          "height": 472
        },
        "id": "n08soPGIZChi",
        "outputId": "4ffde6c8-532b-414e-c1e7-7940d85c82a2"
      },
      "execution_count": 5,
      "outputs": [
        {
          "output_type": "display_data",
          "data": {
            "text/plain": [
              "<Figure size 640x480 with 1 Axes>"
            ],
            "image/png": "[encoded data removed]"
          },
          "metadata": {}
        }
      ]
    },
    {
      "cell_type": "code",
      "source": [],
      "metadata": {
        "id": "zRFFUff_ZSMa"
      },
      "execution_count": null,
      "outputs": []
    }
  ]
}