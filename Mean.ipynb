{
  "nbformat": 4,
  "nbformat_minor": 0,
  "metadata": {
    "colab": {
      "provenance": [],
      "authorship_tag": "ABX9TyO7iKtk2Txn6+oyBlketm5K",
      "include_colab_link": true
    },
    "kernelspec": {
      "name": "python3",
      "display_name": "Python 3"
    },
    "language_info": {
      "name": "python"
    }
  },
  "cells": [
    {
      "cell_type": "markdown",
      "metadata": {
        "id": "view-in-github",
        "colab_type": "text"
      },
      "source": [
        "<a href=\"https://colab.research.google.com/github/YagyanshB/Stats-For-Data-Science/blob/main/Mean.ipynb\" target=\"_parent\"><img src=\"https://colab.research.google.com/assets/colab-badge.svg\" alt=\"Open In Colab\"/></a>"
      ]
    },
    {
      "cell_type": "code",
      "execution_count": 1,
      "metadata": {
        "id": "t2veqXIFVQzv"
      },
      "outputs": [],
      "source": [
        "# Creating a mean calculating function\n",
        "\n",
        "def mean(numbers):\n",
        "  if len(numbers) == 0:\n",
        "    return None\n",
        "\n",
        "  total = sum(numbers)\n",
        "  mean = total/len(numbers)\n",
        "  return mean"
      ]
    },
    {
      "cell_type": "code",
      "source": [
        "numbers = [23, 47, 68, 97, 105, 78, 98, 65, 43]"
      ],
      "metadata": {
        "id": "M6pk80NsXPya"
      },
      "execution_count": 2,
      "outputs": []
    },
    {
      "cell_type": "code",
      "source": [
        "mean_value = mean(numbers)\n",
        "\n",
        "print(f'The mean of the numbers is {mean_value}.')"
      ],
      "metadata": {
        "colab": {
          "base_uri": "https://localhost:8080/"
        },
        "id": "b8uhzmKkXWXs",
        "outputId": "1908ebdb-1102-41c6-8342-5efeddda3235"
      },
      "execution_count": 5,
      "outputs": [
        {
          "output_type": "stream",
          "name": "stdout",
          "text": [
            "The mean of the numbers is 69.33333333333333.\n"
          ]
        }
      ]
    }
  ]
}